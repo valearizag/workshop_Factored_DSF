{
 "cells": [
  {
   "cell_type": "code",
   "execution_count": 1,
   "id": "a800a6c9",
   "metadata": {},
   "outputs": [
    {
     "name": "stdout",
     "output_type": "stream",
     "text": [
      "Requirement already satisfied: dill==0.3.4 in c:\\users\\valentina ariza\\anaconda3\\lib\\site-packages (from -r requirements.txt (line 1)) (0.3.4)\n",
      "Requirement already satisfied: matplotlib==3.4.2 in c:\\users\\valentina ariza\\anaconda3\\lib\\site-packages (from -r requirements.txt (line 2)) (3.4.2)\n",
      "Requirement already satisfied: mlflow==1.20.2 in c:\\users\\valentina ariza\\anaconda3\\lib\\site-packages (from -r requirements.txt (line 3)) (1.20.2)\n",
      "Requirement already satisfied: numpy==1.21.0 in c:\\users\\valentina ariza\\anaconda3\\lib\\site-packages (from -r requirements.txt (line 4)) (1.21.0)\n",
      "Requirement already satisfied: pandas==1.2.5 in c:\\users\\valentina ariza\\anaconda3\\lib\\site-packages (from -r requirements.txt (line 5)) (1.2.5)\n",
      "Requirement already satisfied: scikit-learn==0.24.2 in c:\\users\\valentina ariza\\anaconda3\\lib\\site-packages (from -r requirements.txt (line 6)) (0.24.2)\n",
      "Requirement already satisfied: seaborn==0.11.1 in c:\\users\\valentina ariza\\anaconda3\\lib\\site-packages (from -r requirements.txt (line 7)) (0.11.1)\n",
      "Requirement already satisfied: cycler>=0.10 in c:\\users\\valentina ariza\\anaconda3\\lib\\site-packages (from matplotlib==3.4.2->-r requirements.txt (line 2)) (0.10.0)\n",
      "Requirement already satisfied: kiwisolver>=1.0.1 in c:\\users\\valentina ariza\\anaconda3\\lib\\site-packages (from matplotlib==3.4.2->-r requirements.txt (line 2)) (1.3.1)\n",
      "Requirement already satisfied: python-dateutil>=2.7 in c:\\users\\valentina ariza\\anaconda3\\lib\\site-packages (from matplotlib==3.4.2->-r requirements.txt (line 2)) (2.8.1)\n",
      "Requirement already satisfied: pyparsing>=2.2.1 in c:\\users\\valentina ariza\\anaconda3\\lib\\site-packages (from matplotlib==3.4.2->-r requirements.txt (line 2)) (2.4.7)\n",
      "Requirement already satisfied: pillow>=6.2.0 in c:\\users\\valentina ariza\\anaconda3\\lib\\site-packages (from matplotlib==3.4.2->-r requirements.txt (line 2)) (8.2.0)\n",
      "Requirement already satisfied: Flask in c:\\users\\valentina ariza\\anaconda3\\lib\\site-packages (from mlflow==1.20.2->-r requirements.txt (line 3)) (1.1.2)\n",
      "Requirement already satisfied: entrypoints in c:\\users\\valentina ariza\\anaconda3\\lib\\site-packages (from mlflow==1.20.2->-r requirements.txt (line 3)) (0.3)\n",
      "Requirement already satisfied: protobuf>=3.7.0 in c:\\users\\valentina ariza\\anaconda3\\lib\\site-packages (from mlflow==1.20.2->-r requirements.txt (line 3)) (3.18.1)\n",
      "Requirement already satisfied: sqlalchemy in c:\\users\\valentina ariza\\anaconda3\\lib\\site-packages (from mlflow==1.20.2->-r requirements.txt (line 3)) (1.4.7)\n",
      "Requirement already satisfied: docker>=4.0.0 in c:\\users\\valentina ariza\\anaconda3\\lib\\site-packages (from mlflow==1.20.2->-r requirements.txt (line 3)) (5.0.3)\n",
      "Requirement already satisfied: click>=7.0 in c:\\users\\valentina ariza\\anaconda3\\lib\\site-packages (from mlflow==1.20.2->-r requirements.txt (line 3)) (7.1.2)\n",
      "Requirement already satisfied: requests>=2.17.3 in c:\\users\\valentina ariza\\anaconda3\\lib\\site-packages (from mlflow==1.20.2->-r requirements.txt (line 3)) (2.25.1)\n",
      "Requirement already satisfied: waitress in c:\\users\\valentina ariza\\anaconda3\\lib\\site-packages (from mlflow==1.20.2->-r requirements.txt (line 3)) (2.0.0)\n",
      "Requirement already satisfied: importlib-metadata!=4.7.0,>=3.7.0 in c:\\users\\valentina ariza\\anaconda3\\lib\\site-packages (from mlflow==1.20.2->-r requirements.txt (line 3)) (3.10.0)\n",
      "Requirement already satisfied: sqlparse>=0.3.1 in c:\\users\\valentina ariza\\anaconda3\\lib\\site-packages (from mlflow==1.20.2->-r requirements.txt (line 3)) (0.4.2)\n",
      "Requirement already satisfied: cloudpickle in c:\\users\\valentina ariza\\anaconda3\\lib\\site-packages (from mlflow==1.20.2->-r requirements.txt (line 3)) (1.6.0)\n",
      "Requirement already satisfied: databricks-cli>=0.8.7 in c:\\users\\valentina ariza\\anaconda3\\lib\\site-packages (from mlflow==1.20.2->-r requirements.txt (line 3)) (0.15.0)\n",
      "Requirement already satisfied: pyyaml>=5.1 in c:\\users\\valentina ariza\\anaconda3\\lib\\site-packages (from mlflow==1.20.2->-r requirements.txt (line 3)) (5.4.1)\n",
      "Requirement already satisfied: pytz in c:\\users\\valentina ariza\\anaconda3\\lib\\site-packages (from mlflow==1.20.2->-r requirements.txt (line 3)) (2021.1)\n",
      "Requirement already satisfied: alembic<=1.4.1 in c:\\users\\valentina ariza\\anaconda3\\lib\\site-packages (from mlflow==1.20.2->-r requirements.txt (line 3)) (1.4.1)\n",
      "Requirement already satisfied: packaging in c:\\users\\valentina ariza\\anaconda3\\lib\\site-packages (from mlflow==1.20.2->-r requirements.txt (line 3)) (20.9)\n",
      "Requirement already satisfied: prometheus-flask-exporter in c:\\users\\valentina ariza\\anaconda3\\lib\\site-packages (from mlflow==1.20.2->-r requirements.txt (line 3)) (0.18.3)\n",
      "Requirement already satisfied: querystring-parser in c:\\users\\valentina ariza\\anaconda3\\lib\\site-packages (from mlflow==1.20.2->-r requirements.txt (line 3)) (1.2.4)\n",
      "Requirement already satisfied: gitpython>=2.1.0 in c:\\users\\valentina ariza\\anaconda3\\lib\\site-packages (from mlflow==1.20.2->-r requirements.txt (line 3)) (3.1.24)\n",
      "Requirement already satisfied: scipy>=0.19.1 in c:\\users\\valentina ariza\\anaconda3\\lib\\site-packages (from scikit-learn==0.24.2->-r requirements.txt (line 6)) (1.6.2)\n",
      "Requirement already satisfied: joblib>=0.11 in c:\\users\\valentina ariza\\anaconda3\\lib\\site-packages (from scikit-learn==0.24.2->-r requirements.txt (line 6)) (1.0.1)\n",
      "Requirement already satisfied: threadpoolctl>=2.0.0 in c:\\users\\valentina ariza\\anaconda3\\lib\\site-packages (from scikit-learn==0.24.2->-r requirements.txt (line 6)) (2.1.0)\n",
      "Requirement already satisfied: Mako in c:\\users\\valentina ariza\\anaconda3\\lib\\site-packages (from alembic<=1.4.1->mlflow==1.20.2->-r requirements.txt (line 3)) (1.1.5)\n",
      "Requirement already satisfied: python-editor>=0.3 in c:\\users\\valentina ariza\\anaconda3\\lib\\site-packages (from alembic<=1.4.1->mlflow==1.20.2->-r requirements.txt (line 3)) (1.0.4)\n",
      "Requirement already satisfied: six in c:\\users\\valentina ariza\\anaconda3\\lib\\site-packages (from cycler>=0.10->matplotlib==3.4.2->-r requirements.txt (line 2)) (1.15.0)\n",
      "Requirement already satisfied: tabulate>=0.7.7 in c:\\users\\valentina ariza\\anaconda3\\lib\\site-packages (from databricks-cli>=0.8.7->mlflow==1.20.2->-r requirements.txt (line 3)) (0.8.9)\n",
      "Requirement already satisfied: websocket-client>=0.32.0 in c:\\users\\valentina ariza\\anaconda3\\lib\\site-packages (from docker>=4.0.0->mlflow==1.20.2->-r requirements.txt (line 3)) (1.2.1)\n",
      "Requirement already satisfied: pywin32==227 in c:\\users\\valentina ariza\\anaconda3\\lib\\site-packages (from docker>=4.0.0->mlflow==1.20.2->-r requirements.txt (line 3)) (227)\n",
      "Requirement already satisfied: typing-extensions>=3.7.4.3 in c:\\users\\valentina ariza\\anaconda3\\lib\\site-packages (from gitpython>=2.1.0->mlflow==1.20.2->-r requirements.txt (line 3)) (3.7.4.3)\n",
      "Requirement already satisfied: gitdb<5,>=4.0.1 in c:\\users\\valentina ariza\\anaconda3\\lib\\site-packages (from gitpython>=2.1.0->mlflow==1.20.2->-r requirements.txt (line 3)) (4.0.7)\n",
      "Requirement already satisfied: smmap<5,>=3.0.1 in c:\\users\\valentina ariza\\anaconda3\\lib\\site-packages (from gitdb<5,>=4.0.1->gitpython>=2.1.0->mlflow==1.20.2->-r requirements.txt (line 3)) (4.0.0)\n",
      "Requirement already satisfied: zipp>=0.5 in c:\\users\\valentina ariza\\anaconda3\\lib\\site-packages (from importlib-metadata!=4.7.0,>=3.7.0->mlflow==1.20.2->-r requirements.txt (line 3)) (3.4.1)\n",
      "Requirement already satisfied: certifi>=2017.4.17 in c:\\users\\valentina ariza\\anaconda3\\lib\\site-packages (from requests>=2.17.3->mlflow==1.20.2->-r requirements.txt (line 3)) (2020.12.5)\n",
      "Requirement already satisfied: chardet<5,>=3.0.2 in c:\\users\\valentina ariza\\anaconda3\\lib\\site-packages (from requests>=2.17.3->mlflow==1.20.2->-r requirements.txt (line 3)) (4.0.0)\n",
      "Requirement already satisfied: urllib3<1.27,>=1.21.1 in c:\\users\\valentina ariza\\anaconda3\\lib\\site-packages (from requests>=2.17.3->mlflow==1.20.2->-r requirements.txt (line 3)) (1.26.4)\n",
      "Requirement already satisfied: idna<3,>=2.5 in c:\\users\\valentina ariza\\anaconda3\\lib\\site-packages (from requests>=2.17.3->mlflow==1.20.2->-r requirements.txt (line 3)) (2.10)\n",
      "Requirement already satisfied: greenlet!=0.4.17 in c:\\users\\valentina ariza\\anaconda3\\lib\\site-packages (from sqlalchemy->mlflow==1.20.2->-r requirements.txt (line 3)) (1.0.0)\n",
      "Requirement already satisfied: Jinja2>=2.10.1 in c:\\users\\valentina ariza\\anaconda3\\lib\\site-packages (from Flask->mlflow==1.20.2->-r requirements.txt (line 3)) (2.11.3)\n",
      "Requirement already satisfied: Werkzeug>=0.15 in c:\\users\\valentina ariza\\anaconda3\\lib\\site-packages (from Flask->mlflow==1.20.2->-r requirements.txt (line 3)) (1.0.1)\n",
      "Requirement already satisfied: itsdangerous>=0.24 in c:\\users\\valentina ariza\\anaconda3\\lib\\site-packages (from Flask->mlflow==1.20.2->-r requirements.txt (line 3)) (1.1.0)\n",
      "Requirement already satisfied: MarkupSafe>=0.23 in c:\\users\\valentina ariza\\anaconda3\\lib\\site-packages (from Jinja2>=2.10.1->Flask->mlflow==1.20.2->-r requirements.txt (line 3)) (1.1.1)\n",
      "Requirement already satisfied: prometheus-client in c:\\users\\valentina ariza\\anaconda3\\lib\\site-packages (from prometheus-flask-exporter->mlflow==1.20.2->-r requirements.txt (line 3)) (0.10.1)\n"
     ]
    }
   ],
   "source": [
    "!pip install -r requirements.txt"
   ]
  },
  {
   "cell_type": "code",
   "execution_count": 2,
   "id": "f6d4a2b1",
   "metadata": {},
   "outputs": [],
   "source": [
    "import numpy as np\n",
    "import pandas as pd\n",
    "\n",
    "from typing import List\n",
    "from sklearn import set_config\n",
    "set_config(display='diagram')"
   ]
  },
  {
   "cell_type": "code",
   "execution_count": 3,
   "id": "d2b56adb",
   "metadata": {},
   "outputs": [
    {
     "data": {
      "text/html": [
       "<div>\n",
       "<style scoped>\n",
       "    .dataframe tbody tr th:only-of-type {\n",
       "        vertical-align: middle;\n",
       "    }\n",
       "\n",
       "    .dataframe tbody tr th {\n",
       "        vertical-align: top;\n",
       "    }\n",
       "\n",
       "    .dataframe thead th {\n",
       "        text-align: right;\n",
       "    }\n",
       "</style>\n",
       "<table border=\"1\" class=\"dataframe\">\n",
       "  <thead>\n",
       "    <tr style=\"text-align: right;\">\n",
       "      <th></th>\n",
       "      <th>id</th>\n",
       "      <th>vendor_id</th>\n",
       "      <th>pickup_datetime</th>\n",
       "      <th>dropoff_datetime</th>\n",
       "      <th>passenger_count</th>\n",
       "      <th>pickup_longitude</th>\n",
       "      <th>pickup_latitude</th>\n",
       "      <th>dropoff_longitude</th>\n",
       "      <th>dropoff_latitude</th>\n",
       "      <th>store_and_fwd_flag</th>\n",
       "      <th>trip_duration</th>\n",
       "      <th>pickup_borough</th>\n",
       "      <th>dropoff_borough</th>\n",
       "    </tr>\n",
       "  </thead>\n",
       "  <tbody>\n",
       "    <tr>\n",
       "      <th>0</th>\n",
       "      <td>id2875421</td>\n",
       "      <td>2</td>\n",
       "      <td>2016-03-14 17:24:55</td>\n",
       "      <td>2016-03-14 17:32:30</td>\n",
       "      <td>1</td>\n",
       "      <td>-73.982155</td>\n",
       "      <td>40.767937</td>\n",
       "      <td>-73.964630</td>\n",
       "      <td>40.765602</td>\n",
       "      <td>N</td>\n",
       "      <td>455</td>\n",
       "      <td>Manhattan</td>\n",
       "      <td>Manhattan</td>\n",
       "    </tr>\n",
       "    <tr>\n",
       "      <th>1</th>\n",
       "      <td>id2377394</td>\n",
       "      <td>1</td>\n",
       "      <td>2016-06-12 00:43:35</td>\n",
       "      <td>2016-06-12 00:54:38</td>\n",
       "      <td>1</td>\n",
       "      <td>-73.980415</td>\n",
       "      <td>40.738564</td>\n",
       "      <td>-73.999481</td>\n",
       "      <td>40.731152</td>\n",
       "      <td>N</td>\n",
       "      <td>663</td>\n",
       "      <td>Manhattan</td>\n",
       "      <td>Brooklyn</td>\n",
       "    </tr>\n",
       "    <tr>\n",
       "      <th>2</th>\n",
       "      <td>id3858529</td>\n",
       "      <td>2</td>\n",
       "      <td>2016-01-19 11:35:24</td>\n",
       "      <td>2016-01-19 12:10:48</td>\n",
       "      <td>1</td>\n",
       "      <td>-73.979027</td>\n",
       "      <td>40.763939</td>\n",
       "      <td>-74.005333</td>\n",
       "      <td>40.710087</td>\n",
       "      <td>N</td>\n",
       "      <td>2124</td>\n",
       "      <td>Manhattan</td>\n",
       "      <td>Brooklyn</td>\n",
       "    </tr>\n",
       "    <tr>\n",
       "      <th>3</th>\n",
       "      <td>id3504673</td>\n",
       "      <td>2</td>\n",
       "      <td>2016-04-06 19:32:31</td>\n",
       "      <td>2016-04-06 19:39:40</td>\n",
       "      <td>1</td>\n",
       "      <td>-74.010040</td>\n",
       "      <td>40.719971</td>\n",
       "      <td>-74.012268</td>\n",
       "      <td>40.706718</td>\n",
       "      <td>N</td>\n",
       "      <td>429</td>\n",
       "      <td>Brooklyn</td>\n",
       "      <td>Brooklyn</td>\n",
       "    </tr>\n",
       "    <tr>\n",
       "      <th>4</th>\n",
       "      <td>id2181028</td>\n",
       "      <td>2</td>\n",
       "      <td>2016-03-26 13:30:55</td>\n",
       "      <td>2016-03-26 13:38:10</td>\n",
       "      <td>1</td>\n",
       "      <td>-73.973053</td>\n",
       "      <td>40.793209</td>\n",
       "      <td>-73.972923</td>\n",
       "      <td>40.782520</td>\n",
       "      <td>N</td>\n",
       "      <td>435</td>\n",
       "      <td>Manhattan</td>\n",
       "      <td>Manhattan</td>\n",
       "    </tr>\n",
       "  </tbody>\n",
       "</table>\n",
       "</div>"
      ],
      "text/plain": [
       "          id  vendor_id      pickup_datetime     dropoff_datetime  \\\n",
       "0  id2875421          2  2016-03-14 17:24:55  2016-03-14 17:32:30   \n",
       "1  id2377394          1  2016-06-12 00:43:35  2016-06-12 00:54:38   \n",
       "2  id3858529          2  2016-01-19 11:35:24  2016-01-19 12:10:48   \n",
       "3  id3504673          2  2016-04-06 19:32:31  2016-04-06 19:39:40   \n",
       "4  id2181028          2  2016-03-26 13:30:55  2016-03-26 13:38:10   \n",
       "\n",
       "   passenger_count  pickup_longitude  pickup_latitude  dropoff_longitude  \\\n",
       "0                1        -73.982155        40.767937         -73.964630   \n",
       "1                1        -73.980415        40.738564         -73.999481   \n",
       "2                1        -73.979027        40.763939         -74.005333   \n",
       "3                1        -74.010040        40.719971         -74.012268   \n",
       "4                1        -73.973053        40.793209         -73.972923   \n",
       "\n",
       "   dropoff_latitude store_and_fwd_flag  trip_duration pickup_borough  \\\n",
       "0         40.765602                  N            455      Manhattan   \n",
       "1         40.731152                  N            663      Manhattan   \n",
       "2         40.710087                  N           2124      Manhattan   \n",
       "3         40.706718                  N            429       Brooklyn   \n",
       "4         40.782520                  N            435      Manhattan   \n",
       "\n",
       "  dropoff_borough  \n",
       "0       Manhattan  \n",
       "1        Brooklyn  \n",
       "2        Brooklyn  \n",
       "3        Brooklyn  \n",
       "4       Manhattan  "
      ]
     },
     "execution_count": 3,
     "metadata": {},
     "output_type": "execute_result"
    }
   ],
   "source": [
    "data = pd.read_csv(\n",
    "    \"https://factored-workshops.s3.amazonaws.com/taxi-trip-duration.csv\"\n",
    ")\n",
    "# Limitar rango de datos\n",
    "tiempo_minimo = 60 # 1 minuto\n",
    "tiempo_maximo = 36000 # 10 horas\n",
    "data = data[\n",
    "    (data[\"trip_duration\"] > tiempo_minimo) &\n",
    "    (data[\"trip_duration\"] < tiempo_maximo)\n",
    "]\n",
    "data.head()"
   ]
  },
  {
   "cell_type": "code",
   "execution_count": 4,
   "id": "bfc035fc",
   "metadata": {},
   "outputs": [],
   "source": [
    "y = data[\"trip_duration\"]\n",
    "input_df = data.drop(\n",
    "    [\"id\", \"trip_duration\", \"dropoff_datetime\", \"store_and_fwd_flag\"],\n",
    "    axis=\"columns\"\n",
    ")"
   ]
  },
  {
   "cell_type": "code",
   "execution_count": 5,
   "id": "96580fa4",
   "metadata": {},
   "outputs": [],
   "source": [
    "from sklearn.model_selection import train_test_split\n",
    "\n",
    "train_df, val_df, y_train, y_val = train_test_split(input_df, y, random_state=0)"
   ]
  },
  {
   "cell_type": "code",
   "execution_count": 6,
   "id": "2a369b2f",
   "metadata": {},
   "outputs": [
    {
     "name": "stdout",
     "output_type": "stream",
     "text": [
      "[[-0.30923835 -0.27478234]\n",
      " [-0.13589444  0.75675283]\n",
      " [ 0.24599071  0.58169127]\n",
      " ...\n",
      " [-0.19727957 -0.13002453]\n",
      " [-0.03955223 -0.08161096]\n",
      " [-0.11150857 -0.79791458]]\n"
     ]
    }
   ],
   "source": [
    "from sklearn.preprocessing import StandardScaler\n",
    "\n",
    "transformer = StandardScaler()\n",
    "transformer.fit(\n",
    "    train_df[[\"pickup_longitude\", \"pickup_latitude\"]]\n",
    ")\n",
    "normed_array = transformer.transform(\n",
    "    val_df[[\"pickup_longitude\", \"pickup_latitude\"]]\n",
    ")\n",
    "print(normed_array)"
   ]
  },
  {
   "cell_type": "code",
   "execution_count": 7,
   "id": "7c1f3491",
   "metadata": {},
   "outputs": [],
   "source": [
    "from sklearn.base import BaseEstimator, TransformerMixin\n",
    "\n",
    "class PrimerTransformer(BaseEstimator, TransformerMixin):\n",
    "    def fit(self, X, y=None):\n",
    "        self.mean = X.mean()\n",
    "        self.std = X.std()\n",
    "        return self\n",
    "\n",
    "    def transform(self, X, y=None):\n",
    "        return (X - self.mean) / self.std"
   ]
  },
  {
   "cell_type": "code",
   "execution_count": 8,
   "id": "1e6dd63e",
   "metadata": {},
   "outputs": [],
   "source": [
    "primer_transformer=PrimerTransformer()\n",
    "primer_transformer.fit(train_df[[\"pickup_longitude\", \"pickup_latitude\"]])\n",
    "\n",
    "val_normed_df=primer_transformer.transform(val_df[[\"pickup_longitude\", \"pickup_latitude\"]])"
   ]
  },
  {
   "cell_type": "code",
   "execution_count": 9,
   "id": "9b653dc4",
   "metadata": {},
   "outputs": [
    {
     "data": {
      "text/html": [
       "<div>\n",
       "<style scoped>\n",
       "    .dataframe tbody tr th:only-of-type {\n",
       "        vertical-align: middle;\n",
       "    }\n",
       "\n",
       "    .dataframe tbody tr th {\n",
       "        vertical-align: top;\n",
       "    }\n",
       "\n",
       "    .dataframe thead th {\n",
       "        text-align: right;\n",
       "    }\n",
       "</style>\n",
       "<table border=\"1\" class=\"dataframe\">\n",
       "  <thead>\n",
       "    <tr style=\"text-align: right;\">\n",
       "      <th></th>\n",
       "      <th>pickup_longitude</th>\n",
       "      <th>pickup_latitude</th>\n",
       "    </tr>\n",
       "  </thead>\n",
       "  <tbody>\n",
       "    <tr>\n",
       "      <th>5949</th>\n",
       "      <td>-0.309238</td>\n",
       "      <td>-0.274782</td>\n",
       "    </tr>\n",
       "    <tr>\n",
       "      <th>255492</th>\n",
       "      <td>-0.135894</td>\n",
       "      <td>0.756752</td>\n",
       "    </tr>\n",
       "    <tr>\n",
       "      <th>979171</th>\n",
       "      <td>0.245991</td>\n",
       "      <td>0.581691</td>\n",
       "    </tr>\n",
       "    <tr>\n",
       "      <th>121356</th>\n",
       "      <td>0.176797</td>\n",
       "      <td>0.385864</td>\n",
       "    </tr>\n",
       "    <tr>\n",
       "      <th>524382</th>\n",
       "      <td>0.194096</td>\n",
       "      <td>0.182913</td>\n",
       "    </tr>\n",
       "    <tr>\n",
       "      <th>...</th>\n",
       "      <td>...</td>\n",
       "      <td>...</td>\n",
       "    </tr>\n",
       "    <tr>\n",
       "      <th>885062</th>\n",
       "      <td>-0.488949</td>\n",
       "      <td>-0.292409</td>\n",
       "    </tr>\n",
       "    <tr>\n",
       "      <th>755237</th>\n",
       "      <td>-0.565470</td>\n",
       "      <td>-1.408094</td>\n",
       "    </tr>\n",
       "    <tr>\n",
       "      <th>790367</th>\n",
       "      <td>-0.197279</td>\n",
       "      <td>-0.130024</td>\n",
       "    </tr>\n",
       "    <tr>\n",
       "      <th>106875</th>\n",
       "      <td>-0.039552</td>\n",
       "      <td>-0.081611</td>\n",
       "    </tr>\n",
       "    <tr>\n",
       "      <th>260937</th>\n",
       "      <td>-0.111509</td>\n",
       "      <td>-0.797914</td>\n",
       "    </tr>\n",
       "  </tbody>\n",
       "</table>\n",
       "<p>361964 rows × 2 columns</p>\n",
       "</div>"
      ],
      "text/plain": [
       "        pickup_longitude  pickup_latitude\n",
       "5949           -0.309238        -0.274782\n",
       "255492         -0.135894         0.756752\n",
       "979171          0.245991         0.581691\n",
       "121356          0.176797         0.385864\n",
       "524382          0.194096         0.182913\n",
       "...                  ...              ...\n",
       "885062         -0.488949        -0.292409\n",
       "755237         -0.565470        -1.408094\n",
       "790367         -0.197279        -0.130024\n",
       "106875         -0.039552        -0.081611\n",
       "260937         -0.111509        -0.797914\n",
       "\n",
       "[361964 rows x 2 columns]"
      ]
     },
     "execution_count": 9,
     "metadata": {},
     "output_type": "execute_result"
    }
   ],
   "source": [
    "val_normed_df"
   ]
  },
  {
   "cell_type": "code",
   "execution_count": null,
   "id": "78fb0423",
   "metadata": {},
   "outputs": [],
   "source": [
    "#CHECPOINT 1"
   ]
  },
  {
   "cell_type": "code",
   "execution_count": 13,
   "id": "1d43467a",
   "metadata": {},
   "outputs": [],
   "source": [
    "\n",
    "class TransformerFechas(BaseEstimator, TransformerMixin):\n",
    "    def fit(self, X, y=None):\n",
    "        return self\n",
    "\n",
    "    def transform(self, X, y=None):\n",
    "        columna_fecha = pd.to_datetime(X[\"pickup_datetime\"])\n",
    "        fecha_df = pd.DataFrame()\n",
    "        fecha_df[\"weekday\"] = columna_fecha.dt.weekday\n",
    "        fecha_df[\"hour\"] = columna_fecha.dt.hour\n",
    "        \n",
    "        return fecha_df"
   ]
  },
  {
   "cell_type": "code",
   "execution_count": 14,
   "id": "a78cb114",
   "metadata": {},
   "outputs": [
    {
     "data": {
      "text/html": [
       "<div>\n",
       "<style scoped>\n",
       "    .dataframe tbody tr th:only-of-type {\n",
       "        vertical-align: middle;\n",
       "    }\n",
       "\n",
       "    .dataframe tbody tr th {\n",
       "        vertical-align: top;\n",
       "    }\n",
       "\n",
       "    .dataframe thead th {\n",
       "        text-align: right;\n",
       "    }\n",
       "</style>\n",
       "<table border=\"1\" class=\"dataframe\">\n",
       "  <thead>\n",
       "    <tr style=\"text-align: right;\">\n",
       "      <th></th>\n",
       "      <th>weekday</th>\n",
       "      <th>hour</th>\n",
       "    </tr>\n",
       "  </thead>\n",
       "  <tbody>\n",
       "    <tr>\n",
       "      <th>518949</th>\n",
       "      <td>3</td>\n",
       "      <td>21</td>\n",
       "    </tr>\n",
       "    <tr>\n",
       "      <th>1128931</th>\n",
       "      <td>6</td>\n",
       "      <td>21</td>\n",
       "    </tr>\n",
       "    <tr>\n",
       "      <th>574396</th>\n",
       "      <td>1</td>\n",
       "      <td>18</td>\n",
       "    </tr>\n",
       "    <tr>\n",
       "      <th>54790</th>\n",
       "      <td>6</td>\n",
       "      <td>17</td>\n",
       "    </tr>\n",
       "    <tr>\n",
       "      <th>599130</th>\n",
       "      <td>0</td>\n",
       "      <td>16</td>\n",
       "    </tr>\n",
       "  </tbody>\n",
       "</table>\n",
       "</div>"
      ],
      "text/plain": [
       "         weekday  hour\n",
       "518949         3    21\n",
       "1128931        6    21\n",
       "574396         1    18\n",
       "54790          6    17\n",
       "599130         0    16"
      ]
     },
     "execution_count": 14,
     "metadata": {},
     "output_type": "execute_result"
    }
   ],
   "source": [
    "transformer_fechas = TransformerFechas()\n",
    "fechas_df = transformer_fechas.fit_transform(train_df)\n",
    "fechas_df.head()"
   ]
  },
  {
   "cell_type": "code",
   "execution_count": 23,
   "id": "e85676cf",
   "metadata": {},
   "outputs": [],
   "source": [
    "class TransformerDistancia(BaseEstimator, TransformerMixin):\n",
    "    def fit(self, X, y=None):\n",
    "        return self\n",
    "\n",
    "    def transform(self, X, y=None):\n",
    "        X_init = X[[\"pickup_latitude\", \"pickup_longitude\"]].to_numpy()\n",
    "        X_final = X[[\"dropoff_latitude\", \"dropoff_longitude\"]].to_numpy()\n",
    "\n",
    "        # Distancia de Haversine\n",
    "        distancia=self.distancia_haversine(X_init, X_final)\n",
    "        # distancia de Haversine.\n",
    "        distancia_df = pd.DataFrame()\n",
    "        distancia_df[\"distancia\"] = distancia\n",
    "        return distancia_df\n",
    "    \n",
    "    def distancia_haversine(self, X_init, X_final):\n",
    "        # Convertir de decimal a radianes\n",
    "        X_init = np.radians(X_init)\n",
    "        X_final = np.radians(X_final)\n",
    "\n",
    "        # Formula Haversine\n",
    "        dlat = X_final[:, 0] - X_init[:, 0] \n",
    "        dlon = X_final[:, 1] - X_init[:, 1]\n",
    "        a = np.sin(dlat / 2) ** 2 + np.cos(X_init[:, 0]) * np.cos(X_final[:, 0]) * np.sin(dlon / 2) ** 2\n",
    "        c = 2 * np.arcsin(np.sqrt(a))\n",
    "        r = 6371 # Radius of earth in kilometers. Use 3956 for miles. Determines return value units.\n",
    "        return c * r\n",
    "    \n",
    "   "
   ]
  },
  {
   "cell_type": "code",
   "execution_count": 24,
   "id": "341455ce",
   "metadata": {},
   "outputs": [
    {
     "data": {
      "text/html": [
       "<div>\n",
       "<style scoped>\n",
       "    .dataframe tbody tr th:only-of-type {\n",
       "        vertical-align: middle;\n",
       "    }\n",
       "\n",
       "    .dataframe tbody tr th {\n",
       "        vertical-align: top;\n",
       "    }\n",
       "\n",
       "    .dataframe thead th {\n",
       "        text-align: right;\n",
       "    }\n",
       "</style>\n",
       "<table border=\"1\" class=\"dataframe\">\n",
       "  <thead>\n",
       "    <tr style=\"text-align: right;\">\n",
       "      <th></th>\n",
       "      <th>distancia</th>\n",
       "    </tr>\n",
       "  </thead>\n",
       "  <tbody>\n",
       "    <tr>\n",
       "      <th>0</th>\n",
       "      <td>2.404355</td>\n",
       "    </tr>\n",
       "    <tr>\n",
       "      <th>1</th>\n",
       "      <td>0.390267</td>\n",
       "    </tr>\n",
       "    <tr>\n",
       "      <th>2</th>\n",
       "      <td>5.629826</td>\n",
       "    </tr>\n",
       "    <tr>\n",
       "      <th>3</th>\n",
       "      <td>4.298386</td>\n",
       "    </tr>\n",
       "    <tr>\n",
       "      <th>4</th>\n",
       "      <td>7.488963</td>\n",
       "    </tr>\n",
       "  </tbody>\n",
       "</table>\n",
       "</div>"
      ],
      "text/plain": [
       "   distancia\n",
       "0   2.404355\n",
       "1   0.390267\n",
       "2   5.629826\n",
       "3   4.298386\n",
       "4   7.488963"
      ]
     },
     "execution_count": 24,
     "metadata": {},
     "output_type": "execute_result"
    }
   ],
   "source": [
    "transformer_dist = TransformerDistancia()\n",
    "distancias_df = transformer_dist.fit_transform(train_df)\n",
    "distancias_df.head()"
   ]
  },
  {
   "cell_type": "code",
   "execution_count": null,
   "id": "bb11b4fd",
   "metadata": {},
   "outputs": [],
   "source": [
    "#CHECKPOINT2"
   ]
  },
  {
   "cell_type": "code",
   "execution_count": 25,
   "id": "b39d7333",
   "metadata": {},
   "outputs": [],
   "source": [
    "from sklearn.compose import ColumnTransformer\n",
    "from sklearn.pipeline import Pipeline"
   ]
  },
  {
   "cell_type": "code",
   "execution_count": 26,
   "id": "7e73c9c6",
   "metadata": {},
   "outputs": [
    {
     "data": {
      "text/html": [
       "<style>#sk-8450da75-5c14-4613-ab6f-0e5e91d7a528 {color: black;background-color: white;}#sk-8450da75-5c14-4613-ab6f-0e5e91d7a528 pre{padding: 0;}#sk-8450da75-5c14-4613-ab6f-0e5e91d7a528 div.sk-toggleable {background-color: white;}#sk-8450da75-5c14-4613-ab6f-0e5e91d7a528 label.sk-toggleable__label {cursor: pointer;display: block;width: 100%;margin-bottom: 0;padding: 0.2em 0.3em;box-sizing: border-box;text-align: center;}#sk-8450da75-5c14-4613-ab6f-0e5e91d7a528 div.sk-toggleable__content {max-height: 0;max-width: 0;overflow: hidden;text-align: left;background-color: #f0f8ff;}#sk-8450da75-5c14-4613-ab6f-0e5e91d7a528 div.sk-toggleable__content pre {margin: 0.2em;color: black;border-radius: 0.25em;background-color: #f0f8ff;}#sk-8450da75-5c14-4613-ab6f-0e5e91d7a528 input.sk-toggleable__control:checked~div.sk-toggleable__content {max-height: 200px;max-width: 100%;overflow: auto;}#sk-8450da75-5c14-4613-ab6f-0e5e91d7a528 div.sk-estimator input.sk-toggleable__control:checked~label.sk-toggleable__label {background-color: #d4ebff;}#sk-8450da75-5c14-4613-ab6f-0e5e91d7a528 div.sk-label input.sk-toggleable__control:checked~label.sk-toggleable__label {background-color: #d4ebff;}#sk-8450da75-5c14-4613-ab6f-0e5e91d7a528 input.sk-hidden--visually {border: 0;clip: rect(1px 1px 1px 1px);clip: rect(1px, 1px, 1px, 1px);height: 1px;margin: -1px;overflow: hidden;padding: 0;position: absolute;width: 1px;}#sk-8450da75-5c14-4613-ab6f-0e5e91d7a528 div.sk-estimator {font-family: monospace;background-color: #f0f8ff;margin: 0.25em 0.25em;border: 1px dotted black;border-radius: 0.25em;box-sizing: border-box;}#sk-8450da75-5c14-4613-ab6f-0e5e91d7a528 div.sk-estimator:hover {background-color: #d4ebff;}#sk-8450da75-5c14-4613-ab6f-0e5e91d7a528 div.sk-parallel-item::after {content: \"\";width: 100%;border-bottom: 1px solid gray;flex-grow: 1;}#sk-8450da75-5c14-4613-ab6f-0e5e91d7a528 div.sk-label:hover label.sk-toggleable__label {background-color: #d4ebff;}#sk-8450da75-5c14-4613-ab6f-0e5e91d7a528 div.sk-serial::before {content: \"\";position: absolute;border-left: 1px solid gray;box-sizing: border-box;top: 2em;bottom: 0;left: 50%;}#sk-8450da75-5c14-4613-ab6f-0e5e91d7a528 div.sk-serial {display: flex;flex-direction: column;align-items: center;background-color: white;}#sk-8450da75-5c14-4613-ab6f-0e5e91d7a528 div.sk-item {z-index: 1;}#sk-8450da75-5c14-4613-ab6f-0e5e91d7a528 div.sk-parallel {display: flex;align-items: stretch;justify-content: center;background-color: white;}#sk-8450da75-5c14-4613-ab6f-0e5e91d7a528 div.sk-parallel-item {display: flex;flex-direction: column;position: relative;background-color: white;}#sk-8450da75-5c14-4613-ab6f-0e5e91d7a528 div.sk-parallel-item:first-child::after {align-self: flex-end;width: 50%;}#sk-8450da75-5c14-4613-ab6f-0e5e91d7a528 div.sk-parallel-item:last-child::after {align-self: flex-start;width: 50%;}#sk-8450da75-5c14-4613-ab6f-0e5e91d7a528 div.sk-parallel-item:only-child::after {width: 0;}#sk-8450da75-5c14-4613-ab6f-0e5e91d7a528 div.sk-dashed-wrapped {border: 1px dashed gray;margin: 0.2em;box-sizing: border-box;padding-bottom: 0.1em;background-color: white;position: relative;}#sk-8450da75-5c14-4613-ab6f-0e5e91d7a528 div.sk-label label {font-family: monospace;font-weight: bold;background-color: white;display: inline-block;line-height: 1.2em;}#sk-8450da75-5c14-4613-ab6f-0e5e91d7a528 div.sk-label-container {position: relative;z-index: 2;text-align: center;}#sk-8450da75-5c14-4613-ab6f-0e5e91d7a528 div.sk-container {display: inline-block;position: relative;}</style><div id=\"sk-8450da75-5c14-4613-ab6f-0e5e91d7a528\" class\"sk-top-container\"><div class=\"sk-container\"><div class=\"sk-item sk-dashed-wrapped\"><div class=\"sk-label-container\"><div class=\"sk-label sk-toggleable\"><input class=\"sk-toggleable__control sk-hidden--visually\" id=\"10613881-79ef-498f-a4cf-88c5b30bf063\" type=\"checkbox\" ><label class=\"sk-toggleable__label\" for=\"10613881-79ef-498f-a4cf-88c5b30bf063\">ColumnTransformer</label><div class=\"sk-toggleable__content\"><pre>ColumnTransformer(remainder='passthrough',\n",
       "                  transformers=[('transformer_dist', TransformerDistancia(),\n",
       "                                 ['pickup_longitude', 'pickup_latitude',\n",
       "                                  'dropoff_longitude', 'dropoff_latitude'])])</pre></div></div></div><div class=\"sk-parallel\"><div class=\"sk-parallel-item\"><div class=\"sk-item\"><div class=\"sk-label-container\"><div class=\"sk-label sk-toggleable\"><input class=\"sk-toggleable__control sk-hidden--visually\" id=\"2aaf81a5-21f8-439d-9254-2a80c81623d3\" type=\"checkbox\" ><label class=\"sk-toggleable__label\" for=\"2aaf81a5-21f8-439d-9254-2a80c81623d3\">transformer_dist</label><div class=\"sk-toggleable__content\"><pre>['pickup_longitude', 'pickup_latitude', 'dropoff_longitude', 'dropoff_latitude']</pre></div></div></div><div class=\"sk-serial\"><div class=\"sk-item\"><div class=\"sk-estimator sk-toggleable\"><input class=\"sk-toggleable__control sk-hidden--visually\" id=\"cbc57579-e7f7-41cc-89c5-4fee8a48d8d6\" type=\"checkbox\" ><label class=\"sk-toggleable__label\" for=\"cbc57579-e7f7-41cc-89c5-4fee8a48d8d6\">TransformerDistancia</label><div class=\"sk-toggleable__content\"><pre>TransformerDistancia()</pre></div></div></div></div></div></div><div class=\"sk-parallel-item\"><div class=\"sk-item\"><div class=\"sk-label-container\"><div class=\"sk-label sk-toggleable\"><input class=\"sk-toggleable__control sk-hidden--visually\" id=\"0103bbc4-d73c-488f-b1cc-a94228db21bf\" type=\"checkbox\" ><label class=\"sk-toggleable__label\" for=\"0103bbc4-d73c-488f-b1cc-a94228db21bf\">remainder</label><div class=\"sk-toggleable__content\"><pre></pre></div></div></div><div class=\"sk-serial\"><div class=\"sk-item\"><div class=\"sk-estimator sk-toggleable\"><input class=\"sk-toggleable__control sk-hidden--visually\" id=\"da16b3ff-2b2d-4179-ac5c-2a211204c089\" type=\"checkbox\" ><label class=\"sk-toggleable__label\" for=\"da16b3ff-2b2d-4179-ac5c-2a211204c089\">passthrough</label><div class=\"sk-toggleable__content\"><pre>passthrough</pre></div></div></div></div></div></div></div></div></div></div>"
      ],
      "text/plain": [
       "ColumnTransformer(remainder='passthrough',\n",
       "                  transformers=[('transformer_dist', TransformerDistancia(),\n",
       "                                 ['pickup_longitude', 'pickup_latitude',\n",
       "                                  'dropoff_longitude', 'dropoff_latitude'])])"
      ]
     },
     "metadata": {},
     "output_type": "display_data"
    }
   ],
   "source": [
    "coord_cols = [\n",
    "    \"pickup_longitude\",\n",
    "    \"pickup_latitude\",\n",
    "    \"dropoff_longitude\",\n",
    "    \"dropoff_latitude\"\n",
    "]\n",
    "\n",
    "transformer_coord = ColumnTransformer(\n",
    "    [\n",
    "        (\"transformer_dist\", TransformerDistancia(), coord_cols),\n",
    "    ],\n",
    "    remainder=\"passthrough\"\n",
    ")\n",
    "display(transformer_coord)"
   ]
  },
  {
   "cell_type": "code",
   "execution_count": 27,
   "id": "07b0b401",
   "metadata": {},
   "outputs": [
    {
     "name": "stdout",
     "output_type": "stream",
     "text": [
      "[[-0.25154928 -0.50616698]\n",
      " [-0.73141214  0.25385023]\n",
      " [ 0.51692963 -0.50616698]\n",
      " ...\n",
      " [-0.41058443 -0.50616698]\n",
      " [-0.3461049  -0.50616698]\n",
      " [ 1.33898968  0.25385023]]\n"
     ]
    }
   ],
   "source": [
    "num_cols = [\"passenger_count\"] + coord_cols\n",
    "\n",
    "num_pipeline = Pipeline(\n",
    "    [\n",
    "        (\"transformer_coord\", transformer_coord),\n",
    "        (\"scaler\", StandardScaler())\n",
    "    ]\n",
    ")\n",
    "\n",
    "X_num = num_pipeline.fit_transform(train_df[num_cols], y_train)\n",
    "print(X_num)"
   ]
  },
  {
   "cell_type": "code",
   "execution_count": 28,
   "id": "25284d69",
   "metadata": {},
   "outputs": [
    {
     "data": {
      "text/html": [
       "<style>#sk-88cb42a4-e553-4bcf-9dae-970e96bdc6bb {color: black;background-color: white;}#sk-88cb42a4-e553-4bcf-9dae-970e96bdc6bb pre{padding: 0;}#sk-88cb42a4-e553-4bcf-9dae-970e96bdc6bb div.sk-toggleable {background-color: white;}#sk-88cb42a4-e553-4bcf-9dae-970e96bdc6bb label.sk-toggleable__label {cursor: pointer;display: block;width: 100%;margin-bottom: 0;padding: 0.2em 0.3em;box-sizing: border-box;text-align: center;}#sk-88cb42a4-e553-4bcf-9dae-970e96bdc6bb div.sk-toggleable__content {max-height: 0;max-width: 0;overflow: hidden;text-align: left;background-color: #f0f8ff;}#sk-88cb42a4-e553-4bcf-9dae-970e96bdc6bb div.sk-toggleable__content pre {margin: 0.2em;color: black;border-radius: 0.25em;background-color: #f0f8ff;}#sk-88cb42a4-e553-4bcf-9dae-970e96bdc6bb input.sk-toggleable__control:checked~div.sk-toggleable__content {max-height: 200px;max-width: 100%;overflow: auto;}#sk-88cb42a4-e553-4bcf-9dae-970e96bdc6bb div.sk-estimator input.sk-toggleable__control:checked~label.sk-toggleable__label {background-color: #d4ebff;}#sk-88cb42a4-e553-4bcf-9dae-970e96bdc6bb div.sk-label input.sk-toggleable__control:checked~label.sk-toggleable__label {background-color: #d4ebff;}#sk-88cb42a4-e553-4bcf-9dae-970e96bdc6bb input.sk-hidden--visually {border: 0;clip: rect(1px 1px 1px 1px);clip: rect(1px, 1px, 1px, 1px);height: 1px;margin: -1px;overflow: hidden;padding: 0;position: absolute;width: 1px;}#sk-88cb42a4-e553-4bcf-9dae-970e96bdc6bb div.sk-estimator {font-family: monospace;background-color: #f0f8ff;margin: 0.25em 0.25em;border: 1px dotted black;border-radius: 0.25em;box-sizing: border-box;}#sk-88cb42a4-e553-4bcf-9dae-970e96bdc6bb div.sk-estimator:hover {background-color: #d4ebff;}#sk-88cb42a4-e553-4bcf-9dae-970e96bdc6bb div.sk-parallel-item::after {content: \"\";width: 100%;border-bottom: 1px solid gray;flex-grow: 1;}#sk-88cb42a4-e553-4bcf-9dae-970e96bdc6bb div.sk-label:hover label.sk-toggleable__label {background-color: #d4ebff;}#sk-88cb42a4-e553-4bcf-9dae-970e96bdc6bb div.sk-serial::before {content: \"\";position: absolute;border-left: 1px solid gray;box-sizing: border-box;top: 2em;bottom: 0;left: 50%;}#sk-88cb42a4-e553-4bcf-9dae-970e96bdc6bb div.sk-serial {display: flex;flex-direction: column;align-items: center;background-color: white;}#sk-88cb42a4-e553-4bcf-9dae-970e96bdc6bb div.sk-item {z-index: 1;}#sk-88cb42a4-e553-4bcf-9dae-970e96bdc6bb div.sk-parallel {display: flex;align-items: stretch;justify-content: center;background-color: white;}#sk-88cb42a4-e553-4bcf-9dae-970e96bdc6bb div.sk-parallel-item {display: flex;flex-direction: column;position: relative;background-color: white;}#sk-88cb42a4-e553-4bcf-9dae-970e96bdc6bb div.sk-parallel-item:first-child::after {align-self: flex-end;width: 50%;}#sk-88cb42a4-e553-4bcf-9dae-970e96bdc6bb div.sk-parallel-item:last-child::after {align-self: flex-start;width: 50%;}#sk-88cb42a4-e553-4bcf-9dae-970e96bdc6bb div.sk-parallel-item:only-child::after {width: 0;}#sk-88cb42a4-e553-4bcf-9dae-970e96bdc6bb div.sk-dashed-wrapped {border: 1px dashed gray;margin: 0.2em;box-sizing: border-box;padding-bottom: 0.1em;background-color: white;position: relative;}#sk-88cb42a4-e553-4bcf-9dae-970e96bdc6bb div.sk-label label {font-family: monospace;font-weight: bold;background-color: white;display: inline-block;line-height: 1.2em;}#sk-88cb42a4-e553-4bcf-9dae-970e96bdc6bb div.sk-label-container {position: relative;z-index: 2;text-align: center;}#sk-88cb42a4-e553-4bcf-9dae-970e96bdc6bb div.sk-container {display: inline-block;position: relative;}</style><div id=\"sk-88cb42a4-e553-4bcf-9dae-970e96bdc6bb\" class\"sk-top-container\"><div class=\"sk-container\"><div class=\"sk-item sk-dashed-wrapped\"><div class=\"sk-label-container\"><div class=\"sk-label sk-toggleable\"><input class=\"sk-toggleable__control sk-hidden--visually\" id=\"18034084-4f3f-44db-8958-023c26debfd2\" type=\"checkbox\" ><label class=\"sk-toggleable__label\" for=\"18034084-4f3f-44db-8958-023c26debfd2\">Pipeline</label><div class=\"sk-toggleable__content\"><pre>Pipeline(steps=[('transformer_coord',\n",
       "                 ColumnTransformer(remainder='passthrough',\n",
       "                                   transformers=[('transformer_dist',\n",
       "                                                  TransformerDistancia(),\n",
       "                                                  ['pickup_longitude',\n",
       "                                                   'pickup_latitude',\n",
       "                                                   'dropoff_longitude',\n",
       "                                                   'dropoff_latitude'])])),\n",
       "                ('scaler', StandardScaler())])</pre></div></div></div><div class=\"sk-serial\"><div class=\"sk-item sk-dashed-wrapped\"><div class=\"sk-label-container\"><div class=\"sk-label sk-toggleable\"><input class=\"sk-toggleable__control sk-hidden--visually\" id=\"984ce4a4-706b-439c-9aa1-e6268d28fede\" type=\"checkbox\" ><label class=\"sk-toggleable__label\" for=\"984ce4a4-706b-439c-9aa1-e6268d28fede\">transformer_coord: ColumnTransformer</label><div class=\"sk-toggleable__content\"><pre>ColumnTransformer(remainder='passthrough',\n",
       "                  transformers=[('transformer_dist', TransformerDistancia(),\n",
       "                                 ['pickup_longitude', 'pickup_latitude',\n",
       "                                  'dropoff_longitude', 'dropoff_latitude'])])</pre></div></div></div><div class=\"sk-parallel\"><div class=\"sk-parallel-item\"><div class=\"sk-item\"><div class=\"sk-label-container\"><div class=\"sk-label sk-toggleable\"><input class=\"sk-toggleable__control sk-hidden--visually\" id=\"e8a3ce96-91a3-4344-85b3-57b35068c9e7\" type=\"checkbox\" ><label class=\"sk-toggleable__label\" for=\"e8a3ce96-91a3-4344-85b3-57b35068c9e7\">transformer_dist</label><div class=\"sk-toggleable__content\"><pre>['pickup_longitude', 'pickup_latitude', 'dropoff_longitude', 'dropoff_latitude']</pre></div></div></div><div class=\"sk-serial\"><div class=\"sk-item\"><div class=\"sk-estimator sk-toggleable\"><input class=\"sk-toggleable__control sk-hidden--visually\" id=\"890dbaae-14f8-400a-8e23-508e85199630\" type=\"checkbox\" ><label class=\"sk-toggleable__label\" for=\"890dbaae-14f8-400a-8e23-508e85199630\">TransformerDistancia</label><div class=\"sk-toggleable__content\"><pre>TransformerDistancia()</pre></div></div></div></div></div></div><div class=\"sk-parallel-item\"><div class=\"sk-item\"><div class=\"sk-label-container\"><div class=\"sk-label sk-toggleable\"><input class=\"sk-toggleable__control sk-hidden--visually\" id=\"90636bee-5321-490e-8632-3b722a307bac\" type=\"checkbox\" ><label class=\"sk-toggleable__label\" for=\"90636bee-5321-490e-8632-3b722a307bac\">remainder</label><div class=\"sk-toggleable__content\"><pre>['passenger_count']</pre></div></div></div><div class=\"sk-serial\"><div class=\"sk-item\"><div class=\"sk-estimator sk-toggleable\"><input class=\"sk-toggleable__control sk-hidden--visually\" id=\"815a0cf2-a7d4-457c-85d3-d49ab73f082c\" type=\"checkbox\" ><label class=\"sk-toggleable__label\" for=\"815a0cf2-a7d4-457c-85d3-d49ab73f082c\">passthrough</label><div class=\"sk-toggleable__content\"><pre>passthrough</pre></div></div></div></div></div></div></div></div><div class=\"sk-item\"><div class=\"sk-estimator sk-toggleable\"><input class=\"sk-toggleable__control sk-hidden--visually\" id=\"e6e543a3-ab28-43ee-b7a2-d5400fa31caf\" type=\"checkbox\" ><label class=\"sk-toggleable__label\" for=\"e6e543a3-ab28-43ee-b7a2-d5400fa31caf\">StandardScaler</label><div class=\"sk-toggleable__content\"><pre>StandardScaler()</pre></div></div></div></div></div></div></div>"
      ],
      "text/plain": [
       "Pipeline(steps=[('transformer_coord',\n",
       "                 ColumnTransformer(remainder='passthrough',\n",
       "                                   transformers=[('transformer_dist',\n",
       "                                                  TransformerDistancia(),\n",
       "                                                  ['pickup_longitude',\n",
       "                                                   'pickup_latitude',\n",
       "                                                   'dropoff_longitude',\n",
       "                                                   'dropoff_latitude'])])),\n",
       "                ('scaler', StandardScaler())])"
      ]
     },
     "metadata": {},
     "output_type": "display_data"
    }
   ],
   "source": [
    "display(num_pipeline)"
   ]
  },
  {
   "cell_type": "code",
   "execution_count": 34,
   "id": "79efed42",
   "metadata": {},
   "outputs": [
    {
     "name": "stdout",
     "output_type": "stream",
     "text": [
      "[[ 3. 21.  0.  1.]\n",
      " [ 6. 21.  1.  2.]\n",
      " [ 1. 18.  1.  2.]\n",
      " ...\n",
      " [ 6.  2.  0.  3.]\n",
      " [ 1. 23.  1.  1.]\n",
      " [ 1.  2.  1.  2.]]\n"
     ]
    }
   ],
   "source": [
    "from sklearn.preprocessing import OrdinalEncoder\n",
    "\n",
    "cat_cols = [\"vendor_id\", \"pickup_borough\", \"pickup_datetime\"]\n",
    "\n",
    "transformer_fechas = ColumnTransformer(\n",
    "    [\n",
    "         (\"transformer_fechas\", TransformerFechas(),[\"pickup_datetime\"])\n",
    "    ],\n",
    "    remainder=\"passthrough\"\n",
    ")\n",
    "\n",
    "cat_pipeline = Pipeline(\n",
    "    [\n",
    "       (\"transformer_fechas\", transformer_fechas), \n",
    "       (\"encoder\", OrdinalEncoder())\n",
    "    ]\n",
    ")\n",
    "\n",
    "X_cat = cat_pipeline.fit_transform(train_df[cat_cols])\n",
    "print(X_cat)"
   ]
  },
  {
   "cell_type": "code",
   "execution_count": 35,
   "id": "d8e65dcc",
   "metadata": {},
   "outputs": [
    {
     "data": {
      "text/html": [
       "<style>#sk-53266228-f741-4aa7-a0d8-ac507d387966 {color: black;background-color: white;}#sk-53266228-f741-4aa7-a0d8-ac507d387966 pre{padding: 0;}#sk-53266228-f741-4aa7-a0d8-ac507d387966 div.sk-toggleable {background-color: white;}#sk-53266228-f741-4aa7-a0d8-ac507d387966 label.sk-toggleable__label {cursor: pointer;display: block;width: 100%;margin-bottom: 0;padding: 0.2em 0.3em;box-sizing: border-box;text-align: center;}#sk-53266228-f741-4aa7-a0d8-ac507d387966 div.sk-toggleable__content {max-height: 0;max-width: 0;overflow: hidden;text-align: left;background-color: #f0f8ff;}#sk-53266228-f741-4aa7-a0d8-ac507d387966 div.sk-toggleable__content pre {margin: 0.2em;color: black;border-radius: 0.25em;background-color: #f0f8ff;}#sk-53266228-f741-4aa7-a0d8-ac507d387966 input.sk-toggleable__control:checked~div.sk-toggleable__content {max-height: 200px;max-width: 100%;overflow: auto;}#sk-53266228-f741-4aa7-a0d8-ac507d387966 div.sk-estimator input.sk-toggleable__control:checked~label.sk-toggleable__label {background-color: #d4ebff;}#sk-53266228-f741-4aa7-a0d8-ac507d387966 div.sk-label input.sk-toggleable__control:checked~label.sk-toggleable__label {background-color: #d4ebff;}#sk-53266228-f741-4aa7-a0d8-ac507d387966 input.sk-hidden--visually {border: 0;clip: rect(1px 1px 1px 1px);clip: rect(1px, 1px, 1px, 1px);height: 1px;margin: -1px;overflow: hidden;padding: 0;position: absolute;width: 1px;}#sk-53266228-f741-4aa7-a0d8-ac507d387966 div.sk-estimator {font-family: monospace;background-color: #f0f8ff;margin: 0.25em 0.25em;border: 1px dotted black;border-radius: 0.25em;box-sizing: border-box;}#sk-53266228-f741-4aa7-a0d8-ac507d387966 div.sk-estimator:hover {background-color: #d4ebff;}#sk-53266228-f741-4aa7-a0d8-ac507d387966 div.sk-parallel-item::after {content: \"\";width: 100%;border-bottom: 1px solid gray;flex-grow: 1;}#sk-53266228-f741-4aa7-a0d8-ac507d387966 div.sk-label:hover label.sk-toggleable__label {background-color: #d4ebff;}#sk-53266228-f741-4aa7-a0d8-ac507d387966 div.sk-serial::before {content: \"\";position: absolute;border-left: 1px solid gray;box-sizing: border-box;top: 2em;bottom: 0;left: 50%;}#sk-53266228-f741-4aa7-a0d8-ac507d387966 div.sk-serial {display: flex;flex-direction: column;align-items: center;background-color: white;}#sk-53266228-f741-4aa7-a0d8-ac507d387966 div.sk-item {z-index: 1;}#sk-53266228-f741-4aa7-a0d8-ac507d387966 div.sk-parallel {display: flex;align-items: stretch;justify-content: center;background-color: white;}#sk-53266228-f741-4aa7-a0d8-ac507d387966 div.sk-parallel-item {display: flex;flex-direction: column;position: relative;background-color: white;}#sk-53266228-f741-4aa7-a0d8-ac507d387966 div.sk-parallel-item:first-child::after {align-self: flex-end;width: 50%;}#sk-53266228-f741-4aa7-a0d8-ac507d387966 div.sk-parallel-item:last-child::after {align-self: flex-start;width: 50%;}#sk-53266228-f741-4aa7-a0d8-ac507d387966 div.sk-parallel-item:only-child::after {width: 0;}#sk-53266228-f741-4aa7-a0d8-ac507d387966 div.sk-dashed-wrapped {border: 1px dashed gray;margin: 0.2em;box-sizing: border-box;padding-bottom: 0.1em;background-color: white;position: relative;}#sk-53266228-f741-4aa7-a0d8-ac507d387966 div.sk-label label {font-family: monospace;font-weight: bold;background-color: white;display: inline-block;line-height: 1.2em;}#sk-53266228-f741-4aa7-a0d8-ac507d387966 div.sk-label-container {position: relative;z-index: 2;text-align: center;}#sk-53266228-f741-4aa7-a0d8-ac507d387966 div.sk-container {display: inline-block;position: relative;}</style><div id=\"sk-53266228-f741-4aa7-a0d8-ac507d387966\" class\"sk-top-container\"><div class=\"sk-container\"><div class=\"sk-item sk-dashed-wrapped\"><div class=\"sk-label-container\"><div class=\"sk-label sk-toggleable\"><input class=\"sk-toggleable__control sk-hidden--visually\" id=\"2bc46ce3-4de7-47d7-92f1-612f017fb4ca\" type=\"checkbox\" ><label class=\"sk-toggleable__label\" for=\"2bc46ce3-4de7-47d7-92f1-612f017fb4ca\">Pipeline</label><div class=\"sk-toggleable__content\"><pre>Pipeline(steps=[('transformer_fechas',\n",
       "                 ColumnTransformer(remainder='passthrough',\n",
       "                                   transformers=[('transformer_fechas',\n",
       "                                                  TransformerFechas(),\n",
       "                                                  ['pickup_datetime'])])),\n",
       "                ('encoder', OrdinalEncoder())])</pre></div></div></div><div class=\"sk-serial\"><div class=\"sk-item sk-dashed-wrapped\"><div class=\"sk-label-container\"><div class=\"sk-label sk-toggleable\"><input class=\"sk-toggleable__control sk-hidden--visually\" id=\"b535074d-ae3c-426a-96bb-8141dfe26ffd\" type=\"checkbox\" ><label class=\"sk-toggleable__label\" for=\"b535074d-ae3c-426a-96bb-8141dfe26ffd\">transformer_fechas: ColumnTransformer</label><div class=\"sk-toggleable__content\"><pre>ColumnTransformer(remainder='passthrough',\n",
       "                  transformers=[('transformer_fechas', TransformerFechas(),\n",
       "                                 ['pickup_datetime'])])</pre></div></div></div><div class=\"sk-parallel\"><div class=\"sk-parallel-item\"><div class=\"sk-item\"><div class=\"sk-label-container\"><div class=\"sk-label sk-toggleable\"><input class=\"sk-toggleable__control sk-hidden--visually\" id=\"149840bb-4678-437e-a317-abd4e5090fa4\" type=\"checkbox\" ><label class=\"sk-toggleable__label\" for=\"149840bb-4678-437e-a317-abd4e5090fa4\">transformer_fechas</label><div class=\"sk-toggleable__content\"><pre>['pickup_datetime']</pre></div></div></div><div class=\"sk-serial\"><div class=\"sk-item\"><div class=\"sk-estimator sk-toggleable\"><input class=\"sk-toggleable__control sk-hidden--visually\" id=\"d2de145c-0cad-4733-a560-c6e0fd7f3bf1\" type=\"checkbox\" ><label class=\"sk-toggleable__label\" for=\"d2de145c-0cad-4733-a560-c6e0fd7f3bf1\">TransformerFechas</label><div class=\"sk-toggleable__content\"><pre>TransformerFechas()</pre></div></div></div></div></div></div><div class=\"sk-parallel-item\"><div class=\"sk-item\"><div class=\"sk-label-container\"><div class=\"sk-label sk-toggleable\"><input class=\"sk-toggleable__control sk-hidden--visually\" id=\"60cc37c1-511e-4a82-9ccf-a3ed2782e7ed\" type=\"checkbox\" ><label class=\"sk-toggleable__label\" for=\"60cc37c1-511e-4a82-9ccf-a3ed2782e7ed\">remainder</label><div class=\"sk-toggleable__content\"><pre>['vendor_id', 'pickup_borough']</pre></div></div></div><div class=\"sk-serial\"><div class=\"sk-item\"><div class=\"sk-estimator sk-toggleable\"><input class=\"sk-toggleable__control sk-hidden--visually\" id=\"d7fcfcbc-5a16-49cd-be04-6925bd6fd104\" type=\"checkbox\" ><label class=\"sk-toggleable__label\" for=\"d7fcfcbc-5a16-49cd-be04-6925bd6fd104\">passthrough</label><div class=\"sk-toggleable__content\"><pre>passthrough</pre></div></div></div></div></div></div></div></div><div class=\"sk-item\"><div class=\"sk-estimator sk-toggleable\"><input class=\"sk-toggleable__control sk-hidden--visually\" id=\"0b30c1e0-a0d0-4d84-a0ee-867d740b0df0\" type=\"checkbox\" ><label class=\"sk-toggleable__label\" for=\"0b30c1e0-a0d0-4d84-a0ee-867d740b0df0\">OrdinalEncoder</label><div class=\"sk-toggleable__content\"><pre>OrdinalEncoder()</pre></div></div></div></div></div></div></div>"
      ],
      "text/plain": [
       "Pipeline(steps=[('transformer_fechas',\n",
       "                 ColumnTransformer(remainder='passthrough',\n",
       "                                   transformers=[('transformer_fechas',\n",
       "                                                  TransformerFechas(),\n",
       "                                                  ['pickup_datetime'])])),\n",
       "                ('encoder', OrdinalEncoder())])"
      ]
     },
     "metadata": {},
     "output_type": "display_data"
    }
   ],
   "source": [
    "display(cat_pipeline)"
   ]
  },
  {
   "cell_type": "code",
   "execution_count": null,
   "id": "6816016f",
   "metadata": {},
   "outputs": [],
   "source": [
    "#CHECKPOINT 3"
   ]
  },
  {
   "cell_type": "code",
   "execution_count": 36,
   "id": "701e4aae",
   "metadata": {},
   "outputs": [
    {
     "name": "stdout",
     "output_type": "stream",
     "text": [
      "(1085891, 6)\n"
     ]
    }
   ],
   "source": [
    "from sklearn.pipeline import FeatureUnion\n",
    "\n",
    "full_pipeline = ColumnTransformer(\n",
    "    [\n",
    "        (\"num_pipeline\", num_pipeline, num_cols),\n",
    "        (\"cat_pipeline\", cat_pipeline, cat_cols)\n",
    "    ]\n",
    ")\n",
    "\n",
    "X_transformed = full_pipeline.fit_transform(train_df, y_train)\n",
    "print(X_transformed.shape)"
   ]
  },
  {
   "cell_type": "code",
   "execution_count": 37,
   "id": "ae67a527",
   "metadata": {},
   "outputs": [
    {
     "data": {
      "text/html": [
       "<style>#sk-8589da03-68c2-40eb-8754-6212123b1e71 {color: black;background-color: white;}#sk-8589da03-68c2-40eb-8754-6212123b1e71 pre{padding: 0;}#sk-8589da03-68c2-40eb-8754-6212123b1e71 div.sk-toggleable {background-color: white;}#sk-8589da03-68c2-40eb-8754-6212123b1e71 label.sk-toggleable__label {cursor: pointer;display: block;width: 100%;margin-bottom: 0;padding: 0.2em 0.3em;box-sizing: border-box;text-align: center;}#sk-8589da03-68c2-40eb-8754-6212123b1e71 div.sk-toggleable__content {max-height: 0;max-width: 0;overflow: hidden;text-align: left;background-color: #f0f8ff;}#sk-8589da03-68c2-40eb-8754-6212123b1e71 div.sk-toggleable__content pre {margin: 0.2em;color: black;border-radius: 0.25em;background-color: #f0f8ff;}#sk-8589da03-68c2-40eb-8754-6212123b1e71 input.sk-toggleable__control:checked~div.sk-toggleable__content {max-height: 200px;max-width: 100%;overflow: auto;}#sk-8589da03-68c2-40eb-8754-6212123b1e71 div.sk-estimator input.sk-toggleable__control:checked~label.sk-toggleable__label {background-color: #d4ebff;}#sk-8589da03-68c2-40eb-8754-6212123b1e71 div.sk-label input.sk-toggleable__control:checked~label.sk-toggleable__label {background-color: #d4ebff;}#sk-8589da03-68c2-40eb-8754-6212123b1e71 input.sk-hidden--visually {border: 0;clip: rect(1px 1px 1px 1px);clip: rect(1px, 1px, 1px, 1px);height: 1px;margin: -1px;overflow: hidden;padding: 0;position: absolute;width: 1px;}#sk-8589da03-68c2-40eb-8754-6212123b1e71 div.sk-estimator {font-family: monospace;background-color: #f0f8ff;margin: 0.25em 0.25em;border: 1px dotted black;border-radius: 0.25em;box-sizing: border-box;}#sk-8589da03-68c2-40eb-8754-6212123b1e71 div.sk-estimator:hover {background-color: #d4ebff;}#sk-8589da03-68c2-40eb-8754-6212123b1e71 div.sk-parallel-item::after {content: \"\";width: 100%;border-bottom: 1px solid gray;flex-grow: 1;}#sk-8589da03-68c2-40eb-8754-6212123b1e71 div.sk-label:hover label.sk-toggleable__label {background-color: #d4ebff;}#sk-8589da03-68c2-40eb-8754-6212123b1e71 div.sk-serial::before {content: \"\";position: absolute;border-left: 1px solid gray;box-sizing: border-box;top: 2em;bottom: 0;left: 50%;}#sk-8589da03-68c2-40eb-8754-6212123b1e71 div.sk-serial {display: flex;flex-direction: column;align-items: center;background-color: white;}#sk-8589da03-68c2-40eb-8754-6212123b1e71 div.sk-item {z-index: 1;}#sk-8589da03-68c2-40eb-8754-6212123b1e71 div.sk-parallel {display: flex;align-items: stretch;justify-content: center;background-color: white;}#sk-8589da03-68c2-40eb-8754-6212123b1e71 div.sk-parallel-item {display: flex;flex-direction: column;position: relative;background-color: white;}#sk-8589da03-68c2-40eb-8754-6212123b1e71 div.sk-parallel-item:first-child::after {align-self: flex-end;width: 50%;}#sk-8589da03-68c2-40eb-8754-6212123b1e71 div.sk-parallel-item:last-child::after {align-self: flex-start;width: 50%;}#sk-8589da03-68c2-40eb-8754-6212123b1e71 div.sk-parallel-item:only-child::after {width: 0;}#sk-8589da03-68c2-40eb-8754-6212123b1e71 div.sk-dashed-wrapped {border: 1px dashed gray;margin: 0.2em;box-sizing: border-box;padding-bottom: 0.1em;background-color: white;position: relative;}#sk-8589da03-68c2-40eb-8754-6212123b1e71 div.sk-label label {font-family: monospace;font-weight: bold;background-color: white;display: inline-block;line-height: 1.2em;}#sk-8589da03-68c2-40eb-8754-6212123b1e71 div.sk-label-container {position: relative;z-index: 2;text-align: center;}#sk-8589da03-68c2-40eb-8754-6212123b1e71 div.sk-container {display: inline-block;position: relative;}</style><div id=\"sk-8589da03-68c2-40eb-8754-6212123b1e71\" class\"sk-top-container\"><div class=\"sk-container\"><div class=\"sk-item sk-dashed-wrapped\"><div class=\"sk-label-container\"><div class=\"sk-label sk-toggleable\"><input class=\"sk-toggleable__control sk-hidden--visually\" id=\"2c3129de-46b0-48db-8cd9-9900af0e9b3d\" type=\"checkbox\" ><label class=\"sk-toggleable__label\" for=\"2c3129de-46b0-48db-8cd9-9900af0e9b3d\">ColumnTransformer</label><div class=\"sk-toggleable__content\"><pre>ColumnTransformer(transformers=[('num_pipeline',\n",
       "                                 Pipeline(steps=[('transformer_coord',\n",
       "                                                  ColumnTransformer(remainder='passthrough',\n",
       "                                                                    transformers=[('transformer_dist',\n",
       "                                                                                   TransformerDistancia(),\n",
       "                                                                                   ['pickup_longitude',\n",
       "                                                                                    'pickup_latitude',\n",
       "                                                                                    'dropoff_longitude',\n",
       "                                                                                    'dropoff_latitude'])])),\n",
       "                                                 ('scaler', StandardScaler())]),\n",
       "                                 ['passenger_count', 'pickup_longitude',\n",
       "                                  'pickup_latitude', 'dropoff_longitude',\n",
       "                                  'dropoff_latitude']),\n",
       "                                ('cat_pipeline',\n",
       "                                 Pipeline(steps=[('transformer_fechas',\n",
       "                                                  ColumnTransformer(remainder='passthrough',\n",
       "                                                                    transformers=[('transformer_fechas',\n",
       "                                                                                   TransformerFechas(),\n",
       "                                                                                   ['pickup_datetime'])])),\n",
       "                                                 ('encoder',\n",
       "                                                  OrdinalEncoder())]),\n",
       "                                 ['vendor_id', 'pickup_borough',\n",
       "                                  'pickup_datetime'])])</pre></div></div></div><div class=\"sk-parallel\"><div class=\"sk-parallel-item\"><div class=\"sk-item\"><div class=\"sk-label-container\"><div class=\"sk-label sk-toggleable\"><input class=\"sk-toggleable__control sk-hidden--visually\" id=\"35b9c317-761c-4755-917a-07a6bcb13bba\" type=\"checkbox\" ><label class=\"sk-toggleable__label\" for=\"35b9c317-761c-4755-917a-07a6bcb13bba\">num_pipeline</label><div class=\"sk-toggleable__content\"><pre>['passenger_count', 'pickup_longitude', 'pickup_latitude', 'dropoff_longitude', 'dropoff_latitude']</pre></div></div></div><div class=\"sk-serial\"><div class=\"sk-item\"><div class=\"sk-serial\"><div class=\"sk-item sk-dashed-wrapped\"><div class=\"sk-label-container\"><div class=\"sk-label sk-toggleable\"><input class=\"sk-toggleable__control sk-hidden--visually\" id=\"574b45a0-0290-4d57-83d6-c8e796dfa9b5\" type=\"checkbox\" ><label class=\"sk-toggleable__label\" for=\"574b45a0-0290-4d57-83d6-c8e796dfa9b5\">transformer_coord: ColumnTransformer</label><div class=\"sk-toggleable__content\"><pre>ColumnTransformer(remainder='passthrough',\n",
       "                  transformers=[('transformer_dist', TransformerDistancia(),\n",
       "                                 ['pickup_longitude', 'pickup_latitude',\n",
       "                                  'dropoff_longitude', 'dropoff_latitude'])])</pre></div></div></div><div class=\"sk-parallel\"><div class=\"sk-parallel-item\"><div class=\"sk-item\"><div class=\"sk-label-container\"><div class=\"sk-label sk-toggleable\"><input class=\"sk-toggleable__control sk-hidden--visually\" id=\"57d010a4-3a2f-4825-af91-dd9e5c0927b1\" type=\"checkbox\" ><label class=\"sk-toggleable__label\" for=\"57d010a4-3a2f-4825-af91-dd9e5c0927b1\">transformer_dist</label><div class=\"sk-toggleable__content\"><pre>['pickup_longitude', 'pickup_latitude', 'dropoff_longitude', 'dropoff_latitude']</pre></div></div></div><div class=\"sk-serial\"><div class=\"sk-item\"><div class=\"sk-estimator sk-toggleable\"><input class=\"sk-toggleable__control sk-hidden--visually\" id=\"bf6cce05-43a8-4bc6-affe-dbb4a16bcbea\" type=\"checkbox\" ><label class=\"sk-toggleable__label\" for=\"bf6cce05-43a8-4bc6-affe-dbb4a16bcbea\">TransformerDistancia</label><div class=\"sk-toggleable__content\"><pre>TransformerDistancia()</pre></div></div></div></div></div></div><div class=\"sk-parallel-item\"><div class=\"sk-item\"><div class=\"sk-label-container\"><div class=\"sk-label sk-toggleable\"><input class=\"sk-toggleable__control sk-hidden--visually\" id=\"ed0194e0-0845-4bdf-ac1a-cb710a0a5c6c\" type=\"checkbox\" ><label class=\"sk-toggleable__label\" for=\"ed0194e0-0845-4bdf-ac1a-cb710a0a5c6c\">remainder</label><div class=\"sk-toggleable__content\"><pre>['passenger_count']</pre></div></div></div><div class=\"sk-serial\"><div class=\"sk-item\"><div class=\"sk-estimator sk-toggleable\"><input class=\"sk-toggleable__control sk-hidden--visually\" id=\"da0fabdd-20f3-4547-96fb-d872160a2053\" type=\"checkbox\" ><label class=\"sk-toggleable__label\" for=\"da0fabdd-20f3-4547-96fb-d872160a2053\">passthrough</label><div class=\"sk-toggleable__content\"><pre>passthrough</pre></div></div></div></div></div></div></div></div><div class=\"sk-item\"><div class=\"sk-estimator sk-toggleable\"><input class=\"sk-toggleable__control sk-hidden--visually\" id=\"35ad0d73-c20b-4508-b9b6-ab38e29eeca3\" type=\"checkbox\" ><label class=\"sk-toggleable__label\" for=\"35ad0d73-c20b-4508-b9b6-ab38e29eeca3\">StandardScaler</label><div class=\"sk-toggleable__content\"><pre>StandardScaler()</pre></div></div></div></div></div></div></div></div><div class=\"sk-parallel-item\"><div class=\"sk-item\"><div class=\"sk-label-container\"><div class=\"sk-label sk-toggleable\"><input class=\"sk-toggleable__control sk-hidden--visually\" id=\"458c88fe-ab8f-44d8-9244-d8acc47c7d84\" type=\"checkbox\" ><label class=\"sk-toggleable__label\" for=\"458c88fe-ab8f-44d8-9244-d8acc47c7d84\">cat_pipeline</label><div class=\"sk-toggleable__content\"><pre>['vendor_id', 'pickup_borough', 'pickup_datetime']</pre></div></div></div><div class=\"sk-serial\"><div class=\"sk-item\"><div class=\"sk-serial\"><div class=\"sk-item sk-dashed-wrapped\"><div class=\"sk-label-container\"><div class=\"sk-label sk-toggleable\"><input class=\"sk-toggleable__control sk-hidden--visually\" id=\"2f4cd9cf-187b-4cfd-8ec8-e6e943a4905b\" type=\"checkbox\" ><label class=\"sk-toggleable__label\" for=\"2f4cd9cf-187b-4cfd-8ec8-e6e943a4905b\">transformer_fechas: ColumnTransformer</label><div class=\"sk-toggleable__content\"><pre>ColumnTransformer(remainder='passthrough',\n",
       "                  transformers=[('transformer_fechas', TransformerFechas(),\n",
       "                                 ['pickup_datetime'])])</pre></div></div></div><div class=\"sk-parallel\"><div class=\"sk-parallel-item\"><div class=\"sk-item\"><div class=\"sk-label-container\"><div class=\"sk-label sk-toggleable\"><input class=\"sk-toggleable__control sk-hidden--visually\" id=\"e6c79818-d1aa-4aa4-86e5-2735c99d85ec\" type=\"checkbox\" ><label class=\"sk-toggleable__label\" for=\"e6c79818-d1aa-4aa4-86e5-2735c99d85ec\">transformer_fechas</label><div class=\"sk-toggleable__content\"><pre>['pickup_datetime']</pre></div></div></div><div class=\"sk-serial\"><div class=\"sk-item\"><div class=\"sk-estimator sk-toggleable\"><input class=\"sk-toggleable__control sk-hidden--visually\" id=\"94c56146-0d49-484b-b5db-a535c62f21e0\" type=\"checkbox\" ><label class=\"sk-toggleable__label\" for=\"94c56146-0d49-484b-b5db-a535c62f21e0\">TransformerFechas</label><div class=\"sk-toggleable__content\"><pre>TransformerFechas()</pre></div></div></div></div></div></div><div class=\"sk-parallel-item\"><div class=\"sk-item\"><div class=\"sk-label-container\"><div class=\"sk-label sk-toggleable\"><input class=\"sk-toggleable__control sk-hidden--visually\" id=\"a14f1cca-c6e4-4df5-87b8-bdd0ccd5e65c\" type=\"checkbox\" ><label class=\"sk-toggleable__label\" for=\"a14f1cca-c6e4-4df5-87b8-bdd0ccd5e65c\">remainder</label><div class=\"sk-toggleable__content\"><pre>['vendor_id', 'pickup_borough']</pre></div></div></div><div class=\"sk-serial\"><div class=\"sk-item\"><div class=\"sk-estimator sk-toggleable\"><input class=\"sk-toggleable__control sk-hidden--visually\" id=\"3620201b-a044-4db5-952a-2c16bcb84611\" type=\"checkbox\" ><label class=\"sk-toggleable__label\" for=\"3620201b-a044-4db5-952a-2c16bcb84611\">passthrough</label><div class=\"sk-toggleable__content\"><pre>passthrough</pre></div></div></div></div></div></div></div></div><div class=\"sk-item\"><div class=\"sk-estimator sk-toggleable\"><input class=\"sk-toggleable__control sk-hidden--visually\" id=\"c94a8506-5678-40a2-835f-4f79d1f1ef8a\" type=\"checkbox\" ><label class=\"sk-toggleable__label\" for=\"c94a8506-5678-40a2-835f-4f79d1f1ef8a\">OrdinalEncoder</label><div class=\"sk-toggleable__content\"><pre>OrdinalEncoder()</pre></div></div></div></div></div></div></div></div></div></div></div></div>"
      ],
      "text/plain": [
       "ColumnTransformer(transformers=[('num_pipeline',\n",
       "                                 Pipeline(steps=[('transformer_coord',\n",
       "                                                  ColumnTransformer(remainder='passthrough',\n",
       "                                                                    transformers=[('transformer_dist',\n",
       "                                                                                   TransformerDistancia(),\n",
       "                                                                                   ['pickup_longitude',\n",
       "                                                                                    'pickup_latitude',\n",
       "                                                                                    'dropoff_longitude',\n",
       "                                                                                    'dropoff_latitude'])])),\n",
       "                                                 ('scaler', StandardScaler())]),\n",
       "                                 ['passenger_count', 'pickup_longitude',\n",
       "                                  'pickup_latitude', 'dropoff_longitude',\n",
       "                                  'dropoff_latitude']),\n",
       "                                ('cat_pipeline',\n",
       "                                 Pipeline(steps=[('transformer_fechas',\n",
       "                                                  ColumnTransformer(remainder='passthrough',\n",
       "                                                                    transformers=[('transformer_fechas',\n",
       "                                                                                   TransformerFechas(),\n",
       "                                                                                   ['pickup_datetime'])])),\n",
       "                                                 ('encoder',\n",
       "                                                  OrdinalEncoder())]),\n",
       "                                 ['vendor_id', 'pickup_borough',\n",
       "                                  'pickup_datetime'])])"
      ]
     },
     "metadata": {},
     "output_type": "display_data"
    }
   ],
   "source": [
    "display(full_pipeline)"
   ]
  },
  {
   "cell_type": "code",
   "execution_count": 43,
   "id": "e980fb76",
   "metadata": {},
   "outputs": [],
   "source": [
    "import dill\n",
    "dill.settings['recurse'] = True\n",
    "\n",
    "with open(\"preprocesser.pkl\", \"wb\") as f:\n",
    "    dill.dump(full_pipeline, f)"
   ]
  },
  {
   "cell_type": "code",
   "execution_count": 44,
   "id": "6baf37db",
   "metadata": {},
   "outputs": [
    {
     "name": "stdout",
     "output_type": "stream",
     "text": [
      "True\n"
     ]
    }
   ],
   "source": [
    "with open(\"preprocesser.pkl\", \"rb\") as f:\n",
    "    loaded_pipeline = dill.load(f)\n",
    "    \n",
    "X_loaded = loaded_pipeline.transform(train_df)\n",
    "print((X_loaded == X_transformed).all())"
   ]
  },
  {
   "cell_type": "code",
   "execution_count": null,
   "id": "3e5049a5",
   "metadata": {},
   "outputs": [],
   "source": [
    "### SCIKIT-LEANR Y ML FLOW"
   ]
  },
  {
   "cell_type": "code",
   "execution_count": 45,
   "id": "2a53052d",
   "metadata": {},
   "outputs": [],
   "source": [
    "with open(\"preprocesser.pkl\", \"rb\") as f:\n",
    "    preprocessor = dill.load(f)\n",
    "\n",
    "X_train = preprocessor.transform(train_df)\n",
    "X_val = preprocessor.transform(val_df)"
   ]
  },
  {
   "cell_type": "code",
   "execution_count": 46,
   "id": "e8f47f36",
   "metadata": {},
   "outputs": [],
   "source": [
    "from sklearn.metrics import mean_absolute_error, mean_absolute_percentage_error, mean_squared_error, r2_score, mean_squared_log_error\n",
    "\n",
    "def evaluar_predicciones(y_pred, y_true):\n",
    "    mae = mean_absolute_error(y_pred=y_pred, y_true=y_true)\n",
    "    mape = mean_absolute_percentage_error(y_pred=y_pred, y_true=y_true)\n",
    "    rmse = mean_squared_error(y_pred=y_pred, y_true=y_true, squared=False)\n",
    "    print(f\"MAE: {mae:.2f}\")\n",
    "    print(f\"MAPE: {mape}\")\n",
    "    print(f\"RMSE: {rmse}\")"
   ]
  },
  {
   "cell_type": "code",
   "execution_count": 47,
   "id": "e7b310fd",
   "metadata": {},
   "outputs": [
    {
     "name": "stdout",
     "output_type": "stream",
     "text": [
      "TRAIN\n",
      "MAE: 468.61\n",
      "MAPE: 0.95585624685749\n",
      "RMSE: 683.1658889831872\n",
      "VALIDATION\n",
      "MAE: 468.42\n",
      "MAPE: 0.9567650882594899\n",
      "RMSE: 680.0030431781618\n"
     ]
    }
   ],
   "source": [
    "from sklearn.dummy import DummyRegressor\n",
    "\n",
    "dummy_model = DummyRegressor(strategy=\"mean\")\n",
    "dummy_model.fit(X_train, y_train)\n",
    "y_train_dummy = dummy_model.predict(X_train)\n",
    "y_val_dummy = dummy_model.predict(X_val)\n",
    "\n",
    "print(\"TRAIN\")\n",
    "evaluar_predicciones(y_pred=y_train_dummy, y_true=y_train)\n",
    "\n",
    "print(\"VALIDATION\")\n",
    "evaluar_predicciones(y_pred=y_val_dummy, y_true=y_val)"
   ]
  },
  {
   "cell_type": "code",
   "execution_count": 51,
   "id": "4dd2a52b",
   "metadata": {},
   "outputs": [
    {
     "name": "stdout",
     "output_type": "stream",
     "text": [
      "TRAIN\n",
      "MAE: 296.09\n",
      "MAPE: 0.5533021393418195\n",
      "RMSE: 487.05043254440756\n",
      "VALIDATION\n",
      "MAE: 295.55\n",
      "MAPE: 0.5540681395532686\n",
      "RMSE: 529.0958979710379\n"
     ]
    }
   ],
   "source": [
    "from sklearn.linear_model import LinearRegression\n",
    "\n",
    "linear_model = LinearRegression()\n",
    "linear_model.fit(X_train, y_train)\n",
    "y_train_linear = linear_model.predict(X_train)\n",
    "y_val_linear = linear_model.predict(X_val)\n",
    "\n",
    "\n",
    "print(\"TRAIN\")\n",
    "evaluar_predicciones(y_pred=y_train_linear, y_true=y_train)\n",
    "\n",
    "print(\"VALIDATION\")\n",
    "evaluar_predicciones(y_pred=y_val_linear, y_true=y_val)"
   ]
  },
  {
   "cell_type": "code",
   "execution_count": null,
   "id": "d8c23f0f",
   "metadata": {},
   "outputs": [],
   "source": [
    "## MLFLOW"
   ]
  },
  {
   "cell_type": "code",
   "execution_count": 52,
   "id": "56381b98",
   "metadata": {},
   "outputs": [],
   "source": [
    "import mlflow\n",
    "mlflow.sklearn.autolog()"
   ]
  },
  {
   "cell_type": "code",
   "execution_count": 53,
   "id": "60bb12de",
   "metadata": {},
   "outputs": [],
   "source": [
    "with mlflow.start_run(run_name=\"dummy\") as run:\n",
    "    dummy_model.fit(X_train, y_train)\n",
    "    y_pred_val = dummy_model.predict(X_val)\n",
    "    val_mae = mean_absolute_error(y_pred=y_pred_val, y_true=y_val)\n",
    "    val_rmse = mean_squared_error(y_pred=y_pred_val, y_true=y_val, squared=False)\n",
    "    val_mape = mean_absolute_percentage_error(y_pred=y_pred_val, y_true=y_val)\n",
    "    val_r2 = r2_score(y_pred=y_pred_val, y_true=y_val)\n",
    "\n",
    "    mlflow.log_metric(\"val_mae\", val_mae)\n",
    "    mlflow.log_metric(\"val_rmse\", val_rmse)\n",
    "    mlflow.log_metric(\"val_mape\", val_mape)\n",
    "    mlflow.log_metric(\"val_r2\", val_r2)"
   ]
  },
  {
   "cell_type": "code",
   "execution_count": 54,
   "id": "224f1894",
   "metadata": {},
   "outputs": [],
   "source": [
    "with mlflow.start_run(run_name=\"linear_regression\") as run:\n",
    "    linear_model.fit(X_train, y_train)\n",
    "    y_pred_val = linear_model.predict(X_val)\n",
    "    val_mae = mean_absolute_error(y_pred=y_pred_val, y_true=y_val)\n",
    "    val_rmse = mean_squared_error(y_pred=y_pred_val, y_true=y_val, squared=False)\n",
    "    val_mape = mean_absolute_percentage_error(y_pred=y_pred_val, y_true=y_val)\n",
    "    val_r2 = r2_score(y_pred=y_pred_val, y_true=y_val)\n",
    "\n",
    "    mlflow.log_metric(\"val_mae\", val_mae)\n",
    "    mlflow.log_metric(\"val_rmse\", val_rmse)\n",
    "    mlflow.log_metric(\"val_mape\", val_mape)\n",
    "    mlflow.log_metric(\"val_r2\", val_r2)\n",
    "    mlflow.log_artifact(\"preprocesser.pkl\")"
   ]
  },
  {
   "cell_type": "code",
   "execution_count": 56,
   "id": "c756243a",
   "metadata": {},
   "outputs": [],
   "source": [
    "from sklearn.ensemble import RandomForestRegressor\n",
    "\n",
    "with mlflow.start_run(run_name=\"random_forest\") as run:\n",
    "    rf_model=RandomForestRegressor(n_jobs=2)\n",
    "    rf_model.fit(X_train, y_train)\n",
    "    y_pred_val = rf_model.predict(X_val)\n",
    "    val_mae = mean_absolute_error(y_pred=y_pred_val, y_true=y_val)\n",
    "    val_rmse = mean_squared_error(y_pred=y_pred_val, y_true=y_val, squared=False)\n",
    "    val_mape = mean_absolute_percentage_error(y_pred=y_pred_val, y_true=y_val)\n",
    "    val_r2 = r2_score(y_pred=y_pred_val, y_true=y_val)\n",
    "\n",
    "    mlflow.log_metric(\"val_mae\", val_mae)\n",
    "    mlflow.log_metric(\"val_rmse\", val_rmse)\n",
    "    mlflow.log_metric(\"val_mape\", val_mape)\n",
    "    mlflow.log_metric(\"val_r2\", val_r2)\n",
    "    mlflow.log_artifact(\"preprocesser.pkl\")"
   ]
  },
  {
   "cell_type": "code",
   "execution_count": null,
   "id": "e572bc8d",
   "metadata": {},
   "outputs": [],
   "source": []
  }
 ],
 "metadata": {
  "kernelspec": {
   "display_name": "Python 3",
   "language": "python",
   "name": "python3"
  },
  "language_info": {
   "codemirror_mode": {
    "name": "ipython",
    "version": 3
   },
   "file_extension": ".py",
   "mimetype": "text/x-python",
   "name": "python",
   "nbconvert_exporter": "python",
   "pygments_lexer": "ipython3",
   "version": "3.8.8"
  }
 },
 "nbformat": 4,
 "nbformat_minor": 5
}
